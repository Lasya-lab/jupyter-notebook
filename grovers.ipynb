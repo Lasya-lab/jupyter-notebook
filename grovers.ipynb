{
 "cells": [
  {
   "cell_type": "code",
   "execution_count": 2,
   "id": "89067024-38f2-4444-9913-28f7b24233e0",
   "metadata": {},
   "outputs": [
    {
     "ename": "ModuleNotFoundError",
     "evalue": "No module named 'qiskit'",
     "output_type": "error",
     "traceback": [
      "\u001b[31m---------------------------------------------------------------------------\u001b[39m",
      "\u001b[31mModuleNotFoundError\u001b[39m                       Traceback (most recent call last)",
      "\u001b[36mCell\u001b[39m\u001b[36m \u001b[39m\u001b[32mIn[2]\u001b[39m\u001b[32m, line 1\u001b[39m\n\u001b[32m----> \u001b[39m\u001b[32m1\u001b[39m \u001b[38;5;28;01mfrom\u001b[39;00m\u001b[38;5;250m \u001b[39m\u001b[34;01mqiskit\u001b[39;00m\u001b[38;5;250m \u001b[39m\u001b[38;5;28;01mimport\u001b[39;00m QuantumCircuit, ClassicalRegister, QuantumRegister, Aer, execute \n\u001b[32m      3\u001b[39m \u001b[38;5;66;03m# Define the black box function \u001b[39;00m\n\u001b[32m      6\u001b[39m \u001b[38;5;28;01mdef\u001b[39;00m\u001b[38;5;250m \u001b[39m\u001b[34moracle\u001b[39m(circuit, register, marked_state): \n",
      "\u001b[31mModuleNotFoundError\u001b[39m: No module named 'qiskit'"
     ]
    }
   ],
   "source": [
    "from qiskit import QuantumCircuit, ClassicalRegister, QuantumRegister, Aer, execute \n",
    "\n",
    "# Define the black box function \n",
    "\n",
    "\n",
    "def oracle(circuit, register, marked_state): \n",
    "\tfor i in range(len(marked_state)): \n",
    "\t\tif marked_state[i] == '1': \n",
    "\t\t\tcircuit.x(register[i]) \n",
    "\tcircuit.cz(register[0], register[1]) \n",
    "\tfor i in range(len(marked_state)): \n",
    "\t\tif marked_state[i] == '1': \n",
    "\t\t\tcircuit.x(register[i]) \n",
    "\n",
    "# Define the Grover diffusion operator \n",
    "\n",
    "\n",
    "def grover_diffusion(circuit, register): \n",
    "\tcircuit.h(register) \n",
    "\tcircuit.x(register) \n",
    "\tcircuit.h(register[1]) \n",
    "\tcircuit.cx(register[0], register[1]) \n",
    "\tcircuit.h(register[1]) \n",
    "\tcircuit.x(register) \n",
    "\tcircuit.h(register) \n",
    "\n",
    "# Define the Grover algorithm \n",
    "\n",
    "\n",
    "def grover(marked_state): \n",
    "\n",
    "\t# Initialize a quantum register \n",
    "\t# of n qubits \n",
    "\tn = len(marked_state) \n",
    "\tqr = QuantumRegister(n) \n",
    "\tcr = ClassicalRegister(n) \n",
    "\tcircuit = QuantumCircuit(qr, cr) \n",
    "\n",
    "\t# Apply the Hadamard gate \n",
    "\t# to each qubit \n",
    "\tcircuit.h(qr) \n",
    "\n",
    "\t# Repeat the following procedure \n",
    "\t# O(sqrt(2 ^ n)) times \n",
    "\tnum_iterations = int(round((2 ** n) ** 0.5)) \n",
    "\tfor i in range(num_iterations): \n",
    "\t\t# Apply the black box function f \n",
    "\t\t# to the current state to mark \n",
    "\t\t# the solution \n",
    "\t\toracle(circuit, qr, marked_state) \n",
    "\n",
    "\t\t# Apply the Grover diffusion \n",
    "\t\t# operator to amplify the amplitude \n",
    "\t\t# of the marked solution \n",
    "\t\tgrover_diffusion(circuit, qr) \n",
    "\n",
    "\t# Measure the state to obtain \n",
    "\t# a solution x \n",
    "\tcircuit.measure(qr, cr) \n",
    "\n",
    "\t# Run the circuit on a simulator \n",
    "\tbackend = Aer.get_backend('qasm_simulator') \n",
    "\tjob = execute(circuit, backend, shots = 1) \n",
    "\tresult = job.result() \n",
    "\tcounts = result.get_counts() \n",
    "\tx = list(counts.keys())[0] \n",
    "\n",
    "\treturn x \n",
    "\n",
    "\n",
    "# Test the Grover algorithm \n",
    "marked_state = '101'\n",
    "result = grover(marked_state) \n",
    "print(f\"The marked state is {result}\") \n"
   ]
  },
  {
   "cell_type": "code",
   "execution_count": null,
   "id": "5e00ce80-4ac0-4d39-91a5-580efa8a503c",
   "metadata": {},
   "outputs": [],
   "source": []
  }
 ],
 "metadata": {
  "kernelspec": {
   "display_name": "Python 3 (ipykernel)",
   "language": "python",
   "name": "python3"
  },
  "language_info": {
   "codemirror_mode": {
    "name": "ipython",
    "version": 3
   },
   "file_extension": ".py",
   "mimetype": "text/x-python",
   "name": "python",
   "nbconvert_exporter": "python",
   "pygments_lexer": "ipython3",
   "version": "3.13.2"
  }
 },
 "nbformat": 4,
 "nbformat_minor": 5
}
