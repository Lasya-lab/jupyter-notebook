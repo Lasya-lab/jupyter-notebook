{
  "nbformat": 4,
  "nbformat_minor": 0,
  "metadata": {
    "colab": {
      "provenance": [],
      "authorship_tag": "ABX9TyMy0P4NDCFVYQdkeK5eT75Z",
      "include_colab_link": true
    },
    "kernelspec": {
      "name": "python3",
      "display_name": "Python 3"
    },
    "language_info": {
      "name": "python"
    }
  },
  "cells": [
    {
      "cell_type": "markdown",
      "metadata": {
        "id": "view-in-github",
        "colab_type": "text"
      },
      "source": [
        "<a href=\"https://colab.research.google.com/github/Lasya-lab/jupyter-notebook/blob/main/Untitled15.ipynb\" target=\"_parent\"><img src=\"https://colab.research.google.com/assets/colab-badge.svg\" alt=\"Open In Colab\"/></a>"
      ]
    },
    {
      "cell_type": "code",
      "execution_count": null,
      "metadata": {
        "colab": {
          "base_uri": "https://localhost:8080/",
          "height": 401
        },
        "id": "dV-zn6BlvFG5",
        "outputId": "296289a5-d3b7-4a19-f247-d0fa4156b203"
      },
      "outputs": [
        {
          "output_type": "error",
          "ename": "ModuleNotFoundError",
          "evalue": "No module named 'qiskit'",
          "traceback": [
            "\u001b[0;31m---------------------------------------------------------------------------\u001b[0m",
            "\u001b[0;31mModuleNotFoundError\u001b[0m                       Traceback (most recent call last)",
            "\u001b[0;32m<ipython-input-1-923ebdeb85fe>\u001b[0m in \u001b[0;36m<cell line: 0>\u001b[0;34m()\u001b[0m\n\u001b[0;32m----> 1\u001b[0;31m \u001b[0;32mfrom\u001b[0m \u001b[0mqiskit\u001b[0m \u001b[0;32mimport\u001b[0m \u001b[0mQuantumCircuit\u001b[0m\u001b[0;34m,\u001b[0m \u001b[0mClassicalRegister\u001b[0m\u001b[0;34m,\u001b[0m \u001b[0mQuantumRegister\u001b[0m\u001b[0;34m,\u001b[0m \u001b[0mAer\u001b[0m\u001b[0;34m,\u001b[0m \u001b[0mexecute\u001b[0m\u001b[0;34m\u001b[0m\u001b[0;34m\u001b[0m\u001b[0m\n\u001b[0m\u001b[1;32m      2\u001b[0m \u001b[0;34m\u001b[0m\u001b[0m\n\u001b[1;32m      3\u001b[0m \u001b[0;31m# Define the black box function\u001b[0m\u001b[0;34m\u001b[0m\u001b[0;34m\u001b[0m\u001b[0m\n\u001b[1;32m      4\u001b[0m \u001b[0;34m\u001b[0m\u001b[0m\n\u001b[1;32m      5\u001b[0m \u001b[0;34m\u001b[0m\u001b[0m\n",
            "\u001b[0;31mModuleNotFoundError\u001b[0m: No module named 'qiskit'",
            "",
            "\u001b[0;31m---------------------------------------------------------------------------\u001b[0;32m\nNOTE: If your import is failing due to a missing package, you can\nmanually install dependencies using either !pip or !apt.\n\nTo view examples of installing some common dependencies, click the\n\"Open Examples\" button below.\n\u001b[0;31m---------------------------------------------------------------------------\u001b[0m\n"
          ],
          "errorDetails": {
            "actions": [
              {
                "action": "open_url",
                "actionText": "Open Examples",
                "url": "/notebooks/snippets/importing_libraries.ipynb"
              }
            ]
          }
        }
      ],
      "source": [
        "from qiskit import QuantumCircuit, ClassicalRegister, QuantumRegister, Aer, execute\n",
        "\n",
        "# Define the black box function\n",
        "\n",
        "\n",
        "def oracle(circuit, register, marked_state):\n",
        "\tfor i in range(len(marked_state)):\n",
        "\t\tif marked_state[i] == '1':\n",
        "\t\t\tcircuit.x(register[i])\n",
        "\tcircuit.cz(register[0], register[1])\n",
        "\tfor i in range(len(marked_state)):\n",
        "\t\tif marked_state[i] == '1':\n",
        "\t\t\tcircuit.x(register[i])\n",
        "\n",
        "# Define the Grover diffusion operator\n",
        "\n",
        "\n",
        "def grover_diffusion(circuit, register):\n",
        "\tcircuit.h(register)\n",
        "\tcircuit.x(register)\n",
        "\tcircuit.h(register[1])\n",
        "\tcircuit.cx(register[0], register[1])\n",
        "\tcircuit.h(register[1])\n",
        "\tcircuit.x(register)\n",
        "\tcircuit.h(register)\n",
        "\n",
        "# Define the Grover algorithm\n",
        "\n",
        "\n",
        "def grover(marked_state):\n",
        "\n",
        "\t# Initialize a quantum register\n",
        "\t# of n qubits\n",
        "\tn = len(marked_state)\n",
        "\tqr = QuantumRegister(n)\n",
        "\tcr = ClassicalRegister(n)\n",
        "\tcircuit = QuantumCircuit(qr, cr)\n",
        "\n",
        "\t# Apply the Hadamard gate\n",
        "\t# to each qubit\n",
        "\tcircuit.h(qr)\n",
        "\n",
        "\t# Repeat the following procedure\n",
        "\t# O(sqrt(2 ^ n)) times\n",
        "\tnum_iterations = int(round((2 ** n) ** 0.5))\n",
        "\tfor i in range(num_iterations):\n",
        "\t\t# Apply the black box function f\n",
        "\t\t# to the current state to mark\n",
        "\t\t# the solution\n",
        "\t\toracle(circuit, qr, marked_state)\n",
        "\n",
        "\t\t# Apply the Grover diffusion\n",
        "\t\t# operator to amplify the amplitude\n",
        "\t\t# of the marked solution\n",
        "\t\tgrover_diffusion(circuit, qr)\n",
        "\n",
        "\t# Measure the state to obtain\n",
        "\t# a solution x\n",
        "\tcircuit.measure(qr, cr)\n",
        "\n",
        "\t# Run the circuit on a simulator\n",
        "\tbackend = Aer.get_backend('qasm_simulator')\n",
        "\tjob = execute(circuit, backend, shots = 1)\n",
        "\tresult = job.result()\n",
        "\tcounts = result.get_counts()\n",
        "\tx = list(counts.keys())[0]\n",
        "\n",
        "\treturn x\n",
        "\n",
        "\n",
        "# Test the Grover algorithm\n",
        "marked_state = '101'\n",
        "result = grover(marked_state)\n",
        "print(f\"The marked state is {result}\")\n"
      ]
    },
    {
      "cell_type": "code",
      "source": [],
      "metadata": {
        "id": "WrLbF_bBvhKP"
      },
      "execution_count": null,
      "outputs": []
    },
    {
      "cell_type": "markdown",
      "source": [],
      "metadata": {
        "id": "Ri3pzgBivkPO"
      }
    }
  ]
}